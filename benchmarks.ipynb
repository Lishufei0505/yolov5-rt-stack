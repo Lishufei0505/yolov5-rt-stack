{
 "cells": [
  {
   "cell_type": "code",
   "execution_count": 1,
   "id": "237ec5c1",
   "metadata": {},
   "outputs": [],
   "source": [
    "import yolort"
   ]
  },
  {
   "cell_type": "code",
   "execution_count": 2,
   "id": "c0449d57",
   "metadata": {},
   "outputs": [],
   "source": [
    "import argparse\n",
    "import platform\n",
    "import sys\n",
    "import time\n",
    "from pathlib import Path"
   ]
  },
  {
   "cell_type": "code",
   "execution_count": 18,
   "id": "d3333052",
   "metadata": {},
   "outputs": [],
   "source": [
    "import pandas as pd"
   ]
  },
  {
   "cell_type": "code",
   "execution_count": 19,
   "id": "23c0f5ff",
   "metadata": {},
   "outputs": [],
   "source": [
    "FILE = Path().resolve()\n",
    "ROOT = FILE.parents[0]  # YOLOrt root directory\n",
    "if str(ROOT) not in sys.path:\n",
    "    sys.path.append(str(ROOT))  # add ROOT to PATH"
   ]
  },
  {
   "cell_type": "markdown",
   "id": "33bdff03",
   "metadata": {},
   "source": [
    "### 配置环境"
   ]
  },
  {
   "cell_type": "code",
   "execution_count": 20,
   "id": "d09cb02c",
   "metadata": {},
   "outputs": [],
   "source": [
    "import os\n",
    "import cv2\n",
    "import numpy\n",
    "\n",
    "import torch\n",
    "\n",
    "os.environ[\"CUDA_DEVICE_ORDER\"]=\"PCI_BUS_ID\"  # PCI_BUS_ID” # 按照PCI_BUS_ID顺序从0开始排列GPU设备 \n",
    "os.environ[\"CUDA_VISIBLE_DEVICES\"]=\"0\"  #设置当前使用的GPU设备仅为0号设备  设备名称为'/gpu:0'\n",
    "\n",
    "device = torch.device('cuda' if torch.cuda.is_available() else 'cpu')\n",
    "cuda = device.type != 'cpu'"
   ]
  },
  {
   "cell_type": "markdown",
   "id": "cbe0368b",
   "metadata": {},
   "source": [
    "### 导入模型和定义的函数"
   ]
  },
  {
   "cell_type": "code",
   "execution_count": 21,
   "id": "3137e370",
   "metadata": {},
   "outputs": [],
   "source": [
    "from yolort.models.yolo import YOLO\n",
    "from yolort.utils import Visualizer, get_image_from_url, read_image_to_tensor, check_dataset\n",
    "from yolort.v5 import load_yolov5_model, letterbox, non_max_suppression, scale_coords, attempt_download\n",
    "from yolort.v5.utils.downloads import safe_download\n",
    "from yolort.v5.utils.dataloaders import *\n",
    "from yolort.v5.utils.general import colorstr, increment_path\n",
    "from yolort.v5.utils.torch_utils import time_sync\n",
    "from yolort.v5.utils.metrics import ConfusionMatrix, ap_per_class\n",
    "from yolort.v5.utils.val import process_batch"
   ]
  },
  {
   "cell_type": "markdown",
   "id": "5ec98c28",
   "metadata": {},
   "source": [
    "### 加载数据"
   ]
  },
  {
   "cell_type": "code",
   "execution_count": 22,
   "id": "ef4c3cc6",
   "metadata": {
    "scrolled": true
   },
   "outputs": [],
   "source": [
    "data = ROOT / 'data/coco128.yaml'  # dataset.yaml path\n",
    "data = check_dataset(data)"
   ]
  },
  {
   "cell_type": "code",
   "execution_count": 23,
   "id": "acdbf690",
   "metadata": {},
   "outputs": [],
   "source": [
    "img_size = 640\n",
    "stride = 32\n",
    "score_thresh = 0.25\n",
    "batch_size = 32\n",
    "nms_thresh = 0.45\n",
    "single_cls=False # treat as single-class dataset\n",
    "rect = False\n",
    "workers=8  # max dataloader workers (per RANK in DDP mode)"
   ]
  },
  {
   "cell_type": "code",
   "execution_count": 24,
   "id": "895cb217",
   "metadata": {},
   "outputs": [
    {
     "name": "stderr",
     "output_type": "stream",
     "text": [
      "\u001B[34m\u001B[1mval: \u001B[0mScanning '/home/guest1/LISHUFEI/jupyter_code/datasets/coco128/labels/train2017.cache' images and labels... 1\u001B[0m\n"
     ]
    }
   ],
   "source": [
    "\n",
    "task = 'val'\n",
    "task = task if task in ('train', 'val', 'test') else 'val'  # path to train/val/test images\n",
    "loader,dataset = create_dataloader(data[task],\n",
    "                               img_size,\n",
    "                               stride,\n",
    "                               batch_size,\n",
    "                               single_cls,\n",
    "                               rect=rect,\n",
    "                               workers=workers,\n",
    "                               prefix=colorstr(f'{task}: '))\n"
   ]
  },
  {
   "cell_type": "code",
   "execution_count": 25,
   "id": "e2705767",
   "metadata": {},
   "outputs": [],
   "source": [
    "nc = 1 if single_cls else int(data['nc'])  # number of classes\n",
    "seen = 0\n",
    "confusion_matrix = ConfusionMatrix(nc=nc)"
   ]
  },
  {
   "cell_type": "markdown",
   "id": "25726851",
   "metadata": {},
   "source": [
    "### 加载模型权重"
   ]
  },
  {
   "cell_type": "code",
   "execution_count": 26,
   "id": "d2a8111f",
   "metadata": {},
   "outputs": [],
   "source": [
    "model_path = 'yolov5s.pt'\n",
    "checkpoint_path = attempt_download(model_path)"
   ]
  },
  {
   "cell_type": "markdown",
   "id": "dfcb5b4b",
   "metadata": {},
   "source": [
    "### 加载yolort模型"
   ]
  },
  {
   "cell_type": "code",
   "execution_count": 27,
   "id": "39916654",
   "metadata": {},
   "outputs": [],
   "source": [
    "model_yolort = YOLO.load_from_yolov5(\n",
    "    checkpoint_path,\n",
    "    score_thresh=score_thresh,\n",
    "    nms_thresh=nms_thresh,\n",
    "    version=\"r6.0\",\n",
    ")\n",
    "model_yolort = model_yolort.eval()\n",
    "model_yolort = model_yolort.to(device)"
   ]
  },
  {
   "cell_type": "code",
   "execution_count": 28,
   "id": "9eaf21e1",
   "metadata": {},
   "outputs": [],
   "source": [
    "project = ROOT / 'runs/val',  # save to project/name\n",
    "name='exp',  # save to project/name\n",
    "names = dict(enumerate(data['names']))"
   ]
  },
  {
   "cell_type": "code",
   "execution_count": 29,
   "id": "fd1a9455",
   "metadata": {
    "scrolled": true
   },
   "outputs": [
    {
     "name": "stderr",
     "output_type": "stream",
     "text": [
      "               Class     Images     Labels          P          R     mAP@.5 mAP@.5:.95:   0%|          | 0/4 [00:/home/guest1/anaconda3/envs/pytorch-lsf/lib/python3.9/site-packages/torch/functional.py:478: UserWarning: torch.meshgrid: in an upcoming release, it will be required to pass the indexing argument. (Triggered internally at  ../aten/src/ATen/native/TensorShape.cpp:2895.)\n",
      "  return _VF.meshgrid(tensors, **kwargs)  # type: ignore[attr-defined]\n",
      "               Class     Images     Labels          P          R     mAP@.5 mAP@.5:.95: 100%|██████████| 4/4 [00:\n",
      "                 all        128        929      0.733      0.632      0.691        0.5\n"
     ]
    }
   ],
   "source": [
    "#half &= device.type != 'cpu'  # FP16  # FP16 supported on limited backends with CUDA\n",
    "half = False\n",
    "plots = False\n",
    "jdict, stats, ap, ap_class = [], [], [], []\n",
    "s =('%20s' + '%11s' * 6) %  ('Class', 'Images', 'Labels', 'P', 'R', 'mAP@.5', 'mAP@.5:.95')\n",
    "pbar = tqdm(loader, desc=s, bar_format='{l_bar}{bar:10}{r_bar}{bar:-10b}')  # progress bar\n",
    "\n",
    "dt, p, r, f1, mp, mr, map50, map = [0.0, 0.0, 0.0], 0.0, 0.0, 0.0, 0.0, 0.0, 0.0, 0.0\n",
    "iouv = torch.linspace(0.5, 0.95, 10, device=device)  # iou vector for mAP@0.5:0.95\n",
    "niou = iouv.numel()\n",
    "\n",
    "for batch_i, (im, targets, paths, shapes) in enumerate(pbar):\n",
    "    t1 = time_sync()\n",
    "    if cuda:\n",
    "        im = im.to(device)   # im  待检测的图片\n",
    "        targets = targets.to(device) # target 是标签么\n",
    "        \n",
    "    im = im.half() if half else im.float()  # uint8 to fp16/32\n",
    "    im /= 255  # 0 - 255 to 0.0 - 1.0\n",
    "    nb, _, height, width = im.shape  # batch size, channels, height, width\n",
    "    t2 = time_sync()\n",
    "    dt[0] += t2 - t1\n",
    "\n",
    "    with torch.no_grad():\n",
    "        yolort_dets = model_yolort(im)\n",
    "    \n",
    "  # Metrics\n",
    "    for si, pred in enumerate(yolort_dets):\n",
    "\n",
    "        labels = targets[targets[:, 0] == si, 1:]   # 这个batch 中的检测框信息  5维度    \n",
    "        nl, npr = labels.shape[0], len(pred)  # number of labels, predictions  \n",
    "        path, shape = Path(paths[si]), shapes[si][0]\n",
    "        correct = torch.zeros(npr, niou, dtype=torch.bool, device=device)  # init\n",
    "        seen += 1\n",
    "\n",
    "        if npr == 0:\n",
    "            if nl:\n",
    "                stats.append((correct, *torch.zeros((2, 0), device=device), labels[:, 0]))\n",
    "                if plots:\n",
    "                     confusion_matrix.process_batch(detections=None, labels=labels[:, 0])\n",
    "            continue\n",
    "\n",
    "        # Predictions\n",
    "        if single_cls:\n",
    "            pred[:, 5] = 0\n",
    "\n",
    "       # detections (Array[N, 6]), x1, y1, x2, y2, conf, class  \n",
    "        predn =pred.copy() # predn = pred[\"boxes\"].clone()\n",
    "        scale_coords(im[si].shape[1:], predn[\"boxes\"], shape, shapes[si][1])  # native-space pre\n",
    "\n",
    "    # Evaluate\n",
    "        if nl:\n",
    "            tbox = xywhn2xyxy(labels[:, 1:5])  # target boxes   # xy xy    目标框  这里没问题\n",
    "            scale_coords(im[si].shape[1:], tbox, shape, shapes[si][1])  # native-space labels         \n",
    "            labelsn = torch.cat((labels[:, 0:1], tbox), 1)  # native-space labels  拼接 标签和检测框\n",
    "            predn = torch.cat((predn[\"boxes\"],predn[\"scores\"].unsqueeze(-1),predn[\"labels\"].unsqueeze(-1)),1)\n",
    "            correct = process_batch(predn, labelsn, iouv)\n",
    "        stats.append((correct, pred['scores'], pred['labels'], labels[:, 0]))  # (correct, conf, pcls, tcls)\n",
    "    \n",
    "# Compute metrics\n",
    "stats = [torch.cat(x,0).cpu().detach().numpy() for x in zip(*stats)]  # to numpy  stats(list)  x(tuple) \n",
    "if len(stats) and stats[0].any():\n",
    "    tp, fp, p, r, f1, ap, ap_class = ap_per_class(*stats, plot=plots, save_dir=None, names=names)\n",
    "    ap50, ap = ap[:, 0], ap.mean(1)  # AP@0.5, AP@0.5:0.95\n",
    "    mp, mr, map50, map = p.mean(), r.mean(), ap50.mean(), ap.mean()\n",
    "nt = np.bincount(stats[3].astype(int), minlength=nc)  # number of targets per class\n",
    "\n",
    "# Print results\n",
    "pf = '%20s' + '%11i' * 2 + '%11.3g' * 4  # print format\n",
    "LOGGER.info(pf % ('all', seen, nt.sum(), mp, mr, map50, map))"
   ]
  }
 ],
 "metadata": {
  "kernelspec": {
   "display_name": "Python 3 (ipykernel)",
   "language": "python",
   "name": "python3"
  },
  "language_info": {
   "codemirror_mode": {
    "name": "ipython",
    "version": 3
   },
   "file_extension": ".py",
   "mimetype": "text/x-python",
   "name": "python",
   "nbconvert_exporter": "python",
   "pygments_lexer": "ipython3",
   "version": "3.9.7"
  }
 },
 "nbformat": 4,
 "nbformat_minor": 5
}